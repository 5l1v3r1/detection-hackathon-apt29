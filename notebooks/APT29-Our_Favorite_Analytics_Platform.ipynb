{
 "cells": [
  {
   "cell_type": "markdown",
   "metadata": {},
   "source": [
    "# JUPYTER NOTEBOOKS in APT 29 Detection Hackathon!!"
   ]
  },
  {
   "cell_type": "markdown",
   "metadata": {},
   "source": [
    "### 1. Importing Python Libraries"
   ]
  },
  {
   "cell_type": "code",
   "execution_count": 1,
   "metadata": {},
   "outputs": [],
   "source": [
    "from pyspark.sql import SparkSession"
   ]
  },
  {
   "cell_type": "markdown",
   "metadata": {},
   "source": [
    "### 2. Initializing SparkSession"
   ]
  },
  {
   "cell_type": "code",
   "execution_count": 2,
   "metadata": {},
   "outputs": [],
   "source": [
    "spark = SparkSession.builder.getOrCreate()\n",
    "spark.conf.set(\"spark.sql.caseSensitive\", \"true\")"
   ]
  },
  {
   "cell_type": "markdown",
   "metadata": {},
   "source": [
    "### 3. Importing Dataset"
   ]
  },
  {
   "cell_type": "code",
   "execution_count": 3,
   "metadata": {},
   "outputs": [
    {
     "name": "stdout",
     "output_type": "stream",
     "text": [
      "Archive:  apt29_evals_day1_manual.zip\n",
      "  inflating: apt29_evals_day1_manual_2020-05-01225525.json  \n"
     ]
    }
   ],
   "source": [
    "!unzip ../datasets/day1/apt29_evals_day1_manual.zip "
   ]
  },
  {
   "cell_type": "code",
   "execution_count": 4,
   "metadata": {},
   "outputs": [],
   "source": [
    "df = spark.read.json('apt29_evals_day1_manual_2020-05-01225525.json')"
   ]
  },
  {
   "cell_type": "markdown",
   "metadata": {},
   "source": [
    "### 4. Initial Exploratory Analysis of Dataset"
   ]
  },
  {
   "cell_type": "markdown",
   "metadata": {},
   "source": [
    "* What is the **dataframe** structure?"
   ]
  },
  {
   "cell_type": "code",
   "execution_count": 5,
   "metadata": {},
   "outputs": [
    {
     "name": "stdout",
     "output_type": "stream",
     "text": [
      "It has  196081  records\n",
      "It has  388  fields\n"
     ]
    }
   ],
   "source": [
    "print('It has ',df.count(), ' records')\n",
    "print('It has ',len(df.columns),' fields')"
   ]
  },
  {
   "cell_type": "markdown",
   "metadata": {},
   "source": [
    "* What **Sources** of data do we have?"
   ]
  },
  {
   "cell_type": "code",
   "execution_count": 6,
   "metadata": {
    "scrolled": true
   },
   "outputs": [
    {
     "name": "stdout",
     "output_type": "stream",
     "text": [
      "+----------------------------------------------------------------------+------+\n",
      "|Channel                                                               |count |\n",
      "+----------------------------------------------------------------------+------+\n",
      "|Microsoft-Windows-Sysmon/Operational                                  |143884|\n",
      "|Security                                                              |28627 |\n",
      "|security                                                              |12375 |\n",
      "|Microsoft-Windows-PowerShell/Operational                              |5694  |\n",
      "|Windows PowerShell                                                    |5285  |\n",
      "|System                                                                |91    |\n",
      "|Microsoft-Windows-WMI-Activity/Operational                            |90    |\n",
      "|Microsoft-Windows-TerminalServices-RemoteConnectionManager/Operational|15    |\n",
      "|Microsoft-Windows-Windows Firewall With Advanced Security/Firewall    |10    |\n",
      "|Microsoft-Windows-TerminalServices-LocalSessionManager/Operational    |9     |\n",
      "|Microsoft-Windows-Bits-Client/Operational                             |1     |\n",
      "+----------------------------------------------------------------------+------+\n",
      "\n"
     ]
    }
   ],
   "source": [
    "sources = df.groupBy('Channel').count().orderBy('count',ascending = False).show(truncate = False)"
   ]
  },
  {
   "cell_type": "markdown",
   "metadata": {},
   "source": [
    "* What are the **TOP 10 Security** event logs?"
   ]
  },
  {
   "cell_type": "code",
   "execution_count": 7,
   "metadata": {},
   "outputs": [
    {
     "name": "stdout",
     "output_type": "stream",
     "text": [
      "+-------+-----+\n",
      "|EventID|count|\n",
      "+-------+-----+\n",
      "|4658   |10973|\n",
      "|4656   |5497 |\n",
      "|4690   |5471 |\n",
      "|4663   |5337 |\n",
      "|5156   |3163 |\n",
      "|5447   |2587 |\n",
      "|5158   |1896 |\n",
      "|4703   |1802 |\n",
      "|4673   |934  |\n",
      "|4688   |460  |\n",
      "+-------+-----+\n",
      "only showing top 10 rows\n",
      "\n"
     ]
    }
   ],
   "source": [
    "securityEventLogs = df.filter(\"Channel == 'Security' OR Channel == 'security'\").groupBy('EventID').count().orderBy('count',ascending = False).show(10,truncate = False)"
   ]
  },
  {
   "cell_type": "markdown",
   "metadata": {},
   "source": [
    "* What **Sysmon** event logs do we have?"
   ]
  },
  {
   "cell_type": "code",
   "execution_count": 8,
   "metadata": {
    "scrolled": false
   },
   "outputs": [
    {
     "name": "stdout",
     "output_type": "stream",
     "text": [
      "+-------+-----+\n",
      "|EventID|count|\n",
      "+-------+-----+\n",
      "|12     |61151|\n",
      "|10     |39283|\n",
      "|7      |20259|\n",
      "|13     |17541|\n",
      "|11     |1649 |\n",
      "|3      |1229 |\n",
      "|9      |652  |\n",
      "|1      |447  |\n",
      "|23     |422  |\n",
      "|5      |401  |\n",
      "|18     |362  |\n",
      "|2      |209  |\n",
      "|8      |95   |\n",
      "|17     |84   |\n",
      "|22     |81   |\n",
      "|15     |18   |\n",
      "|4      |1    |\n",
      "+-------+-----+\n",
      "\n"
     ]
    }
   ],
   "source": [
    "sysmonEventLogs = df.filter(df.Channel == 'Microsoft-Windows-Sysmon/Operational').groupBy('EventID').count().orderBy('count',ascending = False).show(truncate = False)"
   ]
  },
  {
   "cell_type": "markdown",
   "metadata": {},
   "source": [
    "* What are the **TOP 10 Processes** that have been created based on **Sysmon Event 1: Process Creation**?"
   ]
  },
  {
   "cell_type": "code",
   "execution_count": 9,
   "metadata": {},
   "outputs": [
    {
     "name": "stdout",
     "output_type": "stream",
     "text": [
      "+---------------------------------------------------------+-----+\n",
      "|Image                                                    |count|\n",
      "+---------------------------------------------------------+-----+\n",
      "|C:\\Windows\\System32\\svchost.exe                          |100  |\n",
      "|C:\\Windows\\System32\\conhost.exe                          |65   |\n",
      "|C:\\Windows\\System32\\backgroundTaskHost.exe               |18   |\n",
      "|C:\\Windows\\System32\\wbem\\WmiPrvSE.exe                    |17   |\n",
      "|C:\\Windows\\System32\\RuntimeBroker.exe                    |13   |\n",
      "|C:\\Windows\\System32\\taskhostw.exe                        |13   |\n",
      "|C:\\Windows\\System32\\cmd.exe                              |12   |\n",
      "|C:\\Windows\\System32\\WindowsPowerShell\\v1.0\\powershell.exe|12   |\n",
      "|C:\\Windows\\System32\\rundll32.exe                         |7    |\n",
      "|C:\\Windows\\System32\\logman.exe                           |7    |\n",
      "+---------------------------------------------------------+-----+\n",
      "only showing top 10 rows\n",
      "\n"
     ]
    }
   ],
   "source": [
    "sysmonEid1 = df.filter(\"Channel == 'Microsoft-Windows-Sysmon/Operational' AND EventID == 1\").groupBy('Image').count().orderBy('count',ascending = False).show(10,truncate = False)"
   ]
  },
  {
   "cell_type": "markdown",
   "metadata": {},
   "source": [
    "* What are the **TOP 10 Pairs of IPs** that have the most connections based on **Sysmon Event 3: Network Connection**?"
   ]
  },
  {
   "cell_type": "code",
   "execution_count": 10,
   "metadata": {},
   "outputs": [
    {
     "name": "stdout",
     "output_type": "stream",
     "text": [
      "+------------------------------+------------------------------+-----+\n",
      "|SourceIp                      |DestinationIp                 |count|\n",
      "+------------------------------+------------------------------+-----+\n",
      "|10.0.1.6                      |192.168.0.4                   |348  |\n",
      "|10.0.1.4                      |10.0.0.4                      |160  |\n",
      "|fe80:0:0:0:e40c:95b6:b0a7:6429|fe80:0:0:0:e40c:95b6:b0a7:6429|116  |\n",
      "|0:0:0:0:0:0:0:1               |0:0:0:0:0:0:0:1               |111  |\n",
      "|10.0.1.6                      |10.0.0.4                      |88   |\n",
      "|10.0.0.4                      |10.0.1.4                      |70   |\n",
      "|10.0.0.4                      |10.0.0.4                      |39   |\n",
      "|10.0.1.4                      |10.0.1.6                      |34   |\n",
      "|10.0.0.4                      |172.18.39.2                   |30   |\n",
      "|10.0.0.4                      |10.0.1.6                      |25   |\n",
      "+------------------------------+------------------------------+-----+\n",
      "only showing top 10 rows\n",
      "\n"
     ]
    }
   ],
   "source": [
    "pairIps = df.filter(\"Channel == 'Microsoft-Windows-Sysmon/Operational' AND EventID == 3\").groupBy(['SourceIp','DestinationIp']).count().orderBy('count',ascending = False).show(10,truncate = False)"
   ]
  },
  {
   "cell_type": "markdown",
   "metadata": {},
   "source": [
    "* What are the **TOP 10 Pairs of Ports** that have the most connections based on **Sysmon Event 3: Network Connection**?"
   ]
  },
  {
   "cell_type": "code",
   "execution_count": 11,
   "metadata": {},
   "outputs": [
    {
     "name": "stdout",
     "output_type": "stream",
     "text": [
      "+----------+---------------+-----+\n",
      "|SourcePort|DestinationPort|count|\n",
      "+----------+---------------+-----+\n",
      "|138       |138            |16   |\n",
      "|123       |123            |11   |\n",
      "|137       |137            |8    |\n",
      "|59997     |445            |4    |\n",
      "|57275     |135            |2    |\n",
      "|49739     |135            |2    |\n",
      "|57146     |389            |2    |\n",
      "|60132     |445            |2    |\n",
      "|57269     |9389           |2    |\n",
      "|60219     |49667          |2    |\n",
      "+----------+---------------+-----+\n",
      "only showing top 10 rows\n",
      "\n"
     ]
    }
   ],
   "source": [
    "pairPorts = df.filter(\"Channel == 'Microsoft-Windows-Sysmon/Operational' AND EventID == 3\").groupBy(['SourcePort','DestinationPort']).count().orderBy('count',ascending = False).show(10,truncate = False)"
   ]
  },
  {
   "cell_type": "markdown",
   "metadata": {},
   "source": [
    "* What examples of **Registry Values** do we have based on **Sysmon Event 13: Registry Event (Value Set)**?"
   ]
  },
  {
   "cell_type": "code",
   "execution_count": 12,
   "metadata": {},
   "outputs": [
    {
     "name": "stdout",
     "output_type": "stream",
     "text": [
      "+----------------------------------------------------------------------+-----+\n",
      "|                                                          TargetObject|count|\n",
      "+----------------------------------------------------------------------+-----+\n",
      "|HKLM\\System\\CurrentControlSet\\Services\\W32Time\\Config\\LastKnownGood...|  465|\n",
      "|  HKLM\\SOFTWARE\\Microsoft\\Windows\\CurrentVersion\\VFUProvider\\StartTime|   98|\n",
      "|HKLM\\SOFTWARE\\Microsoft\\Windows NT\\CurrentVersion\\Notifications\\Dat...|   67|\n",
      "|HKU\\S-1-5-21-1830255721-3727074217-2423397540-1107\\Software\\Microso...|   62|\n",
      "|HKU\\S-1-5-21-1830255721-3727074217-2423397540-1107\\Software\\Microso...|   62|\n",
      "|HKU\\S-1-5-20\\Software\\Microsoft\\Windows\\CurrentVersion\\DeliveryOpti...|   51|\n",
      "|HKU\\S-1-5-20\\Software\\Microsoft\\Windows\\CurrentVersion\\DeliveryOpti...|   51|\n",
      "|HKU\\S-1-5-21-1830255721-3727074217-2423397540-1107\\Software\\Microso...|   49|\n",
      "|HKLM\\System\\CurrentControlSet\\Services\\W32Time\\SecureTimeLimits\\Run...|   42|\n",
      "|HKLM\\System\\CurrentControlSet\\Services\\W32Time\\SecureTimeLimits\\Run...|   42|\n",
      "|HKLM\\System\\CurrentControlSet\\Services\\W32Time\\SecureTimeLimits\\Sec...|   42|\n",
      "|HKLM\\System\\CurrentControlSet\\Services\\W32Time\\SecureTimeLimits\\Sec...|   42|\n",
      "|HKLM\\System\\CurrentControlSet\\Services\\W32Time\\SecureTimeLimits\\Sec...|   42|\n",
      "|HKU\\S-1-5-21-1830255721-3727074217-2423397540-1107\\Software\\Microso...|   37|\n",
      "|HKU\\S-1-5-21-1830255721-3727074217-2423397540-1107\\Software\\Microso...|   37|\n",
      "|HKU\\S-1-5-21-1830255721-3727074217-2423397540-1107\\Software\\Microso...|   37|\n",
      "|HKU\\S-1-5-21-1830255721-3727074217-2423397540-1107\\Software\\Microso...|   37|\n",
      "|HKU\\S-1-5-21-1830255721-3727074217-2423397540-1107_Classes\\Local Se...|   34|\n",
      "|HKU\\S-1-5-21-1830255721-3727074217-2423397540-1107\\Software\\Microso...|   26|\n",
      "|HKLM\\SOFTWARE\\Microsoft\\Windows NT\\CurrentVersion\\ProfileService\\Re...|   25|\n",
      "+----------------------------------------------------------------------+-----+\n",
      "only showing top 20 rows\n",
      "\n"
     ]
    }
   ],
   "source": [
    "registryValues = df.filter(\"Channel == 'Microsoft-Windows-Sysmon/Operational' AND EventID == 13\").groupBy('TargetObject').count().orderBy('count',ascending = False).show(truncate = 70)"
   ]
  },
  {
   "cell_type": "code",
   "execution_count": null,
   "metadata": {},
   "outputs": [],
   "source": []
  }
 ],
 "metadata": {
  "kernelspec": {
   "display_name": "PySpark_Python3",
   "language": "python",
   "name": "pyspark3"
  },
  "language_info": {
   "codemirror_mode": {
    "name": "ipython",
    "version": 3
   },
   "file_extension": ".py",
   "mimetype": "text/x-python",
   "name": "python",
   "nbconvert_exporter": "python",
   "pygments_lexer": "ipython3",
   "version": "3.7.3"
  }
 },
 "nbformat": 4,
 "nbformat_minor": 2
}
